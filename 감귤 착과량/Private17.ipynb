{
 "cells": [
  {
   "cell_type": "code",
   "execution_count": 2,
   "metadata": {},
   "outputs": [
    {
     "name": "stderr",
     "output_type": "stream",
     "text": [
      "c:\\Users\\dlwks\\AppData\\Local\\Programs\\Python\\Python311\\Lib\\site-packages\\tqdm\\auto.py:21: TqdmWarning: IProgress not found. Please update jupyter and ipywidgets. See https://ipywidgets.readthedocs.io/en/stable/user_install.html\n",
      "  from .autonotebook import tqdm as notebook_tqdm\n"
     ]
    }
   ],
   "source": [
    "# Data Wrangling\n",
    "import pandas as pd\n",
    "import numpy as np\n",
    "\n",
    "#Utility\n",
    "import random\n",
    "\n",
    "# Preprocessing & Feature Engineering\n",
    "from sklearn.pipeline import Pipeline\n",
    "from sklearn.preprocessing import FunctionTransformer\n",
    "from sklearn.compose import ColumnTransformer\n",
    "from sklearn.preprocessing import MaxAbsScaler\n",
    "from sklearn.preprocessing import MinMaxScaler\n",
    "from sklearn.feature_selection import SelectPercentile\n",
    "\n",
    "# Evaluation\n",
    "from sklearn.model_selection import train_test_split, KFold, StratifiedKFold\n",
    "from sklearn.model_selection import cross_val_score\n",
    "\n",
    "# Optuna\n",
    "import optuna\n",
    "from optuna.samplers import TPESampler\n",
    "from optuna import Trial\n",
    "\n",
    "# Modeling\n",
    "from xgboost import XGBRegressor\n",
    "from catboost import CatBoostRegressor\n",
    "from lightgbm import LGBMRegressor\n",
    "\n",
    "# Visualization\n",
    "from matplotlib import pyplot as plt\n",
    "import seaborn as sns\n",
    "\n",
    "%matplotlib inline\n",
    "import warnings\n",
    "warnings.filterwarnings(\"ignore\")\n",
    "\n",
    "pd.set_option('mode.chained_assignment',  None)"
   ]
  },
  {
   "cell_type": "code",
   "execution_count": 3,
   "metadata": {},
   "outputs": [],
   "source": [
    "train = pd.read_csv(r'C:\\Users\\dlwks\\OneDrive\\바탕 화면\\VSCode\\DACON_CODE_REVIEW\\감귤 착과량\\train.csv')\n",
    "test = pd.read_csv(r'C:\\Users\\dlwks\\OneDrive\\바탕 화면\\VSCode\\DACON_CODE_REVIEW\\감귤 착과량\\test.csv')"
   ]
  },
  {
   "cell_type": "code",
   "execution_count": 4,
   "metadata": {},
   "outputs": [],
   "source": [
    "from collections import Counter\n",
    "\n",
    "def print_mode(df, col):\n",
    "    cnt = Counter(df[col])\n",
    "    list_cnt = cnt.most_common(3)\n",
    "\n",
    "    for idx, value in enumerate(list_cnt):\n",
    "\n",
    "        print(f'{col}의 최빈값 {idx + 1}순위 : {value[0]} & {value[-1]}개')"
   ]
  },
  {
   "cell_type": "code",
   "execution_count": 5,
   "metadata": {},
   "outputs": [],
   "source": [
    "def print_statistics(df, col):\n",
    "\n",
    "    max = df['착과량(int)'].max()\n",
    "    min = df['착과량(int)'].min()\n",
    "    mean = df['착과량(int)'].mean()\n",
    "    median = df['착과량(int)'].median()\n",
    "\n",
    "    print(f'{col}의 최대값 : {max}')\n",
    "    print(f'{col}의 최소값 : {max}')\n",
    "    print(f'{col}의 평균값 : {max}')\n",
    "    print(f'{col}의 중앙값 : {max}')\n",
    "    \n",
    "    print_mode(df, col)"
   ]
  },
  {
   "cell_type": "code",
   "execution_count": 6,
   "metadata": {},
   "outputs": [],
   "source": [
    "def identify_hist(df, col):\n",
    "\n",
    "    sns.histplot(data = df[col], kde = True)\n",
    "    print_statistics(df, col)"
   ]
  },
  {
   "cell_type": "code",
   "execution_count": null,
   "metadata": {},
   "outputs": [],
   "source": []
  }
 ],
 "metadata": {
  "kernelspec": {
   "display_name": "Python 3",
   "language": "python",
   "name": "python3"
  },
  "language_info": {
   "codemirror_mode": {
    "name": "ipython",
    "version": 3
   },
   "file_extension": ".py",
   "mimetype": "text/x-python",
   "name": "python",
   "nbconvert_exporter": "python",
   "pygments_lexer": "ipython3",
   "version": "3.11.2"
  }
 },
 "nbformat": 4,
 "nbformat_minor": 2
}
