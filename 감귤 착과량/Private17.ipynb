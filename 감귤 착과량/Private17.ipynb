{
 "cells": [
  {
   "cell_type": "code",
   "execution_count": null,
   "metadata": {},
   "outputs": [],
   "source": [
    "# Data Wrangling\n",
    "import pandas as pd\n",
    "import numpy as np\n",
    "\n",
    "#Utility\n",
    "import random\n",
    "import os\n",
    "\n",
    "# Preprocessing & Feature Engineering\n",
    "from sklearn.pipeline import Pipeline\n",
    "from sklearn.preprocessing import FunctionTransformer\n",
    "from sklearn.compose import ColumnTransformer\n",
    "from sklearn.preprocessing import MaxAbsScaler\n",
    "from sklearn.preprocessing import MinMaxScaler\n",
    "from sklearn.feature_selection import SelectPercentile\n",
    "\n",
    "# Evaluation\n",
    "from sklearn.model_selection import train_test_split, KFold, StratifiedKFold\n",
    "from sklearn.model_selection import cross_val_score\n",
    "\n",
    "# Optuna\n",
    "import optuna\n",
    "from optuna.samplers import TPESampler\n",
    "from optuna import Trial\n",
    "\n",
    "# Modeling\n",
    "from xgboost import XGBRegressor\n",
    "from catboost import CatBoostRegressor\n",
    "from lightgbm import LGBMRegressor\n",
    "\n",
    "# Visualization\n",
    "from matplotlib import pyplot as plt\n",
    "import seaborn as sns\n",
    "\n",
    "%matplotlib inline\n",
    "import warnings\n",
    "warnings.filterwarnings(\"ignore\")\n",
    "\n",
    "pd.set_option('mode.chained_assignment',  None)"
   ]
  },
  {
   "cell_type": "code",
   "execution_count": null,
   "metadata": {},
   "outputs": [],
   "source": [
    "train = pd.read_csv(r'C:\\Users\\dlwks\\OneDrive\\바탕 화면\\VSCode\\DACON_CODE_REVIEW\\감귤 착과량\\train.csv')\n",
    "test = pd.read_csv(r'C:\\Users\\dlwks\\OneDrive\\바탕 화면\\VSCode\\DACON_CODE_REVIEW\\감귤 착과량\\test.csv')"
   ]
  },
  {
   "cell_type": "code",
   "execution_count": null,
   "metadata": {},
   "outputs": [],
   "source": [
    "from collections import Counter\n",
    "\n",
    "def print_mode(df, col):\n",
    "    cnt = Counter(df[col])\n",
    "    list_cnt = cnt.most_common(3)\n",
    "\n",
    "    for idx, value in enumerate(list_cnt):\n",
    "\n",
    "        print(f'{col}의 최빈값 {idx + 1}순위 : {value[0]} & {value[-1]}개')"
   ]
  },
  {
   "cell_type": "code",
   "execution_count": null,
   "metadata": {},
   "outputs": [],
   "source": [
    "def print_statistics(df, col):\n",
    "\n",
    "    max = df['착과량(int)'].max()\n",
    "    min = df['착과량(int)'].min()\n",
    "    mean = df['착과량(int)'].mean()\n",
    "    median = df['착과량(int)'].median()\n",
    "\n",
    "    print(f'{col}의 최대값 : {max}')\n",
    "    print(f'{col}의 최소값 : {max}')\n",
    "    print(f'{col}의 평균값 : {max}')\n",
    "    print(f'{col}의 중앙값 : {max}')\n",
    "    \n",
    "    print_mode(df, col)"
   ]
  },
  {
   "cell_type": "code",
   "execution_count": null,
   "metadata": {},
   "outputs": [],
   "source": [
    "def identify_hist(df, col):\n",
    "\n",
    "    sns.histplot(data = df[col], kde = True)\n",
    "    print_statistics(df, col)"
   ]
  },
  {
   "cell_type": "code",
   "execution_count": null,
   "metadata": {},
   "outputs": [],
   "source": [
    "identify_hist(train, '착과량(int)')"
   ]
  },
  {
   "cell_type": "code",
   "execution_count": null,
   "metadata": {},
   "outputs": [],
   "source": [
    "y_train = train['착과량(int)']\n",
    "X_drop_list = ['ID']\n",
    "X_train = train.drop(X_drop_list, axis = 1)\n",
    "X_test = test.drop(['ID'], axis = 1)"
   ]
  },
  {
   "cell_type": "code",
   "execution_count": null,
   "metadata": {},
   "outputs": [],
   "source": [
    "high_corr = train.corr().abs().sort_values(by = '착과량(int)', ascending = False).iloc[:,:1]\n",
    "features_name = high_corr[high_corr['착과량(int)'] > 0.9].index\n",
    "features_name = list(features_name)\n",
    "features_name.remove('착과량(int)')\n",
    "X, y = X_train.drop(['착과량(int)'], axis = 1), X_train['착과량(int)']\n",
    "\n",
    "X_1 = X[features_name]\n",
    "X_test_1 = X_test[features_name]"
   ]
  },
  {
   "cell_type": "code",
   "execution_count": null,
   "metadata": {},
   "outputs": [],
   "source": [
    "X_1 = X_1.apply(lambda x : x.clip(x.quantile(.01), x.quantile(.99)), axis = 0)"
   ]
  },
  {
   "cell_type": "code",
   "execution_count": null,
   "metadata": {},
   "outputs": [],
   "source": [
    "def seed_everything(seed):\n",
    "    random.seed(seed)\n",
    "    os.environ['PYTHONHASHSEED'] = str(seed)\n",
    "    np.random.seed(seed)\n",
    "seed_everything(42)"
   ]
  },
  {
   "cell_type": "code",
   "execution_count": null,
   "metadata": {},
   "outputs": [],
   "source": [
    "X_train = X_train.drop(['착과량(int)'], axis = 1)"
   ]
  },
  {
   "cell_type": "code",
   "execution_count": null,
   "metadata": {},
   "outputs": [],
   "source": [
    "X_train['9월_새순_mean'] = X_train.iloc[:,4:34].mean(axis = 1)\n",
    "X_train['9월_새순_std'] = X_train.iloc[:,4:34].std(axis = 1)\n",
    "X_train['9월_새순_var'] = X_train.iloc[:,4:34].var(axis = 1)\n",
    "X_train['10월_새순_mean'] = X_train.iloc[:,34:65].mean(axis = 1)\n",
    "X_train['10월_새순_std'] = X_train.iloc[:,34:65].std(axis = 1)\n",
    "X_train['10월_새순_var'] = X_train.iloc[:,34:65].var(axis = 1)\n",
    "X_train['11월_새순_mean'] = X_train.iloc[:,65:93].mean(axis = 1)\n",
    "X_train['11월_새순_std'] = X_train.iloc[:,65:93].std(axis = 1)\n",
    "X_train['11월_새순_var'] = X_train.iloc[:,65:93].var(axis = 1)\n",
    "X_train['9월_엽록소_mean'] = X_train.iloc[:,93:123].mean(axis = 1)\n",
    "X_train['9월_엽록소_std'] = X_train.iloc[:,93:123].std(axis = 1)\n",
    "X_train['9월_엽록소_var'] = X_train.iloc[:,93:123].var(axis = 1)\n",
    "X_train['10월_엽록소_mean'] = X_train.iloc[:,123:154].mean(axis = 1)\n",
    "X_train['10월_엽록소_std'] = X_train.iloc[:,123:154].std(axis = 1)\n",
    "X_train['10월_엽록소_var'] = X_train.iloc[:,123:154].var(axis = 1)\n",
    "X_train['11월_엽록소_mean'] = X_train.iloc[:,154:182].mean(axis = 1)\n",
    "X_train['11월_엽록소_std'] = X_train.iloc[:,154:182].std(axis = 1)\n",
    "X_train['11월_엽록소_var'] = X_train.iloc[:,154:182].var(axis = 1)"
   ]
  },
  {
   "cell_type": "code",
   "execution_count": null,
   "metadata": {},
   "outputs": [],
   "source": [
    "X_train['새순max'] = X_train.iloc[:,4:93].max(axis=1)\n",
    "X_train['새순min'] = X_train.iloc[:,4:93].min(axis=1)\n",
    "X_train['엽록소max'] = X_train.iloc[:,93:182].max(axis=1)\n",
    "X_train['엽록소min'] = X_train.iloc[:,93:182].min(axis=1)\n",
    "X_train['새순차이'] = X_train['새순max']-X_train['새순min']\n",
    "X_train['엽록소차이'] = X_train['엽록소max']-X_train['엽록소min']\n",
    "X_train['수고X수관폭'] = X_train['수고(m)']*X_train['수관폭평균']\n",
    "X_train['수관폭차이'] = X_train['수관폭2(max)']-X_train['수관폭1(min)']"
   ]
  },
  {
   "cell_type": "code",
   "execution_count": null,
   "metadata": {},
   "outputs": [],
   "source": [
    "for i in range(0,89):\n",
    "    X_train[f'새순 + 엽록소_{i}'] = X_train.iloc[:,4:93].iloc[:,i] + X_train.iloc[:,93:182].iloc[:,i]\n",
    "for i in range(0,89):\n",
    "    X_train[f'새순 - 엽록소_{i}'] = X_train.iloc[:,4:93].iloc[:,i] - X_train.iloc[:,93:182].iloc[:,i]\n",
    "for i in range(0,89):\n",
    "    X_train[f'새순 * 엽록소_{i}'] = X_train.iloc[:,4:93].iloc[:,i] * X_train.iloc[:,93:182].iloc[:,i]\n",
    "for i in range(0,89):\n",
    "    X_train[f'새순 / 엽록소_{i}'] = X_train.iloc[:,4:93].iloc[:,i] / X_train.iloc[:,93:182].iloc[:,i]"
   ]
  },
  {
   "cell_type": "code",
   "execution_count": null,
   "metadata": {},
   "outputs": [],
   "source": [
    "X_test['9월_새순_mean'] = X_test.iloc[:,4:34].mean(axis = 1)\n",
    "X_test['9월_새순_std'] = X_test.iloc[:,4:34].std(axis = 1)\n",
    "X_test['9월_새순_var'] = X_test.iloc[:,4:34].var(axis = 1)\n",
    "X_test['10월_새순_mean'] = X_test.iloc[:,34:65].mean(axis = 1)\n",
    "X_test['10월_새순_std'] = X_test.iloc[:,34:65].std(axis = 1)\n",
    "X_test['10월_새순_var'] = X_test.iloc[:,34:65].var(axis = 1)\n",
    "X_test['11월_새순_mean'] = X_test.iloc[:,65:93].mean(axis = 1)\n",
    "X_test['11월_새순_std'] = X_test.iloc[:,65:93].std(axis = 1)\n",
    "X_test['11월_새순_var'] = X_test.iloc[:,65:93].var(axis = 1)\n",
    "X_test['9월_엽록소_mean'] = X_test.iloc[:,93:123].mean(axis = 1)\n",
    "X_test['9월_엽록소_std'] = X_test.iloc[:,93:123].std(axis = 1)\n",
    "X_test['9월_엽록소_var'] = X_test.iloc[:,93:123].var(axis = 1)\n",
    "X_test['10월_엽록소_mean'] = X_test.iloc[:,123:154].mean(axis = 1)\n",
    "X_test['10월_엽록소_std'] = X_test.iloc[:,123:154].std(axis = 1)\n",
    "X_test['10월_엽록소_var'] = X_test.iloc[:,123:154].var(axis = 1)\n",
    "X_test['11월_엽록소_mean'] = X_test.iloc[:,154:182].mean(axis = 1)\n",
    "X_test['11월_엽록소_std'] = X_test.iloc[:,154:182].std(axis = 1)\n",
    "X_test['11월_엽록소_var'] = X_test.iloc[:,154:182].var(axis = 1)"
   ]
  },
  {
   "cell_type": "code",
   "execution_count": null,
   "metadata": {},
   "outputs": [],
   "source": [
    "X_test['새순max'] = X_test.iloc[:,4:93].max(axis=1)\n",
    "X_test['새순min'] = X_test.iloc[:,4:93].min(axis=1)\n",
    "X_test['엽록소max'] = X_test.iloc[:,93:182].max(axis=1)\n",
    "X_test['엽록소min'] = X_test.iloc[:,93:182].min(axis=1)\n",
    "X_test['새순차이'] = X_test['새순max']-X_test['새순min']\n",
    "X_test['엽록소차이'] = X_test['엽록소max']-X_test['엽록소min']\n",
    "X_test['수고X수관폭'] = X_test['수고(m)']*X_test['수관폭평균']\n",
    "X_test['수관폭차이'] = X_test['수관폭2(max)']-X_test['수관폭1(min)']"
   ]
  },
  {
   "cell_type": "code",
   "execution_count": null,
   "metadata": {},
   "outputs": [],
   "source": [
    "for i in range(0,89):\n",
    "    X_test[f'새순+엽록소_{i}'] = X_test.iloc[:,4:93].iloc[:,i]+X_test.iloc[:,93:182].iloc[:,i]\n",
    "for i in range(0,89):\n",
    "    X_test[f'새순-엽록소_{i}'] = X_test.iloc[:,4:93].iloc[:,i]-X_test.iloc[:,93:182].iloc[:,i]\n",
    "for i in range(0,89):\n",
    "    X_test[f'새순*엽록소_{i}'] = X_test.iloc[:,4:93].iloc[:,i]*X_test.iloc[:,93:182].iloc[:,i]\n",
    "for i in range(0,89):\n",
    "    X_test[f'새순/엽록소_{i}'] = X_test.iloc[:,4:93].iloc[:,i]/X_test.iloc[:,93:182].iloc[:,i]"
   ]
  },
  {
   "cell_type": "code",
   "execution_count": null,
   "metadata": {},
   "outputs": [],
   "source": []
  }
 ],
 "metadata": {
  "kernelspec": {
   "display_name": "Python 3",
   "language": "python",
   "name": "python3"
  },
  "language_info": {
   "codemirror_mode": {
    "name": "ipython",
    "version": 3
   },
   "file_extension": ".py",
   "mimetype": "text/x-python",
   "name": "python",
   "nbconvert_exporter": "python",
   "pygments_lexer": "ipython3",
   "version": "3.11.2"
  }
 },
 "nbformat": 4,
 "nbformat_minor": 2
}
